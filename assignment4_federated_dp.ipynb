{
  "cells": [
    {
      "cell_type": "markdown",
      "metadata": {},
      "source": [
        "# Assignment 4 \u2013 Privacy-Preserving Federated Learning Simulation\n",
        "\n",
        "This notebook runs **EDA**, creates **non-IID splits**, trains **centralized baselines**, and prepares artifacts for **federated (Flower) + differential privacy (Opacus)**.\n"
      ]
    },
    {
      "cell_type": "code",
      "metadata": {},
      "execution_count": null,
      "outputs": [],
      "source": [
        "# Reproducibility\n",
        "import numpy as np, random, os\n",
        "SEED = 42\n",
        "np.random.seed(SEED)\n",
        "random.seed(SEED)\n",
        "\n",
        "# Paths\n",
        "BASE = \"..\"\n"
      ]
    },
    {
      "cell_type": "code",
      "metadata": {},
      "execution_count": null,
      "outputs": [],
      "source": [
        "import pandas as pd\n",
        "import matplotlib.pyplot as plt\n",
        "from sklearn.datasets import load_breast_cancer\n",
        "\n",
        "X, y = load_breast_cancer(return_X_y=True, as_frame=True)\n",
        "df = X.copy()\n",
        "df['target'] = y\n",
        "target_names = load_breast_cancer().target_names\n",
        "print(\"Target mapping:\", {0: target_names[0], 1: target_names[1]})\n",
        "print(\"Shape:\", df.shape)\n",
        "print(df['target'].value_counts())\n",
        "\n",
        "# Simple stats\n",
        "display(df.describe().T[['mean','std']].head())\n",
        "\n",
        "# Correlation heatmap (top-left 10x10 to keep it light)\n",
        "corr = df.drop(columns=['target']).corr().iloc[:10,:10]\n",
        "plt.figure()\n",
        "plt.imshow(corr, interpolation='nearest')\n",
        "plt.title('Correlation (subset 10x10)')\n",
        "plt.colorbar()\n",
        "plt.show()\n"
      ]
    },
    {
      "cell_type": "code",
      "metadata": {},
      "execution_count": null,
      "outputs": [],
      "source": [
        "# Create non-IID hospital splits (feature median strategy) and save CSVs to project root\n",
        "from src.data_split import main as split_main\n",
        "split_main(outdir=\"..\", test_size=0.2, split_strategy=\"feature\")\n",
        "\n",
        "import pandas as pd\n",
        "dist = pd.read_csv(\"../class_distribution.csv\")\n",
        "display(dist)\n"
      ]
    },
    {
      "cell_type": "code",
      "metadata": {},
      "execution_count": null,
      "outputs": [],
      "source": [
        "# Centralized baselines: Logistic Regression & RandomForest\n",
        "from src.centralized_training import train_and_eval\n",
        "metrics_df = train_and_eval(outdir=\"../models\", test_size=0.2)\n",
        "display(metrics_df)\n"
      ]
    },
    {
      "cell_type": "markdown",
      "metadata": {},
      "source": [
        "## Federated Learning (run outside the notebook)\n",
        "\n",
        "Open **three terminals** in the project root:\n",
        "\n",
        "**Server:**\n",
        "```\n",
        "python -m src.fl_server --rounds 10 --eval-every 1 --test-split 0.2\n",
        "```\n",
        "\n",
        "**Client A:**\n",
        "```\n",
        "python -m src.fl_client --site A --epochs 2 --batch-size 64 --lr 0.001 --dp 0\n",
        "```\n",
        "\n",
        "**Client B:**\n",
        "```\n",
        "python -m src.fl_client --site B --epochs 2 --batch-size 64 --lr 0.001 --dp 0\n",
        "```\n",
        "\n",
        "Repeat with `--dp 1 --clip 1.0 --noise 1.1 --delta 1e-5` to enable differential privacy.\n"
      ]
    },
    {
      "cell_type": "markdown",
      "metadata": {},
      "source": [
        "### What to include in the Report\n",
        "- Methods: data split logic, FL setup, DP params (\u03b5, \u03b4, clipping, noise)\n",
        "- Results: tables + plots (centralized and FL)\n",
        "- Discussion: privacy\u2013utility trade-offs, sensitivity to noise/clipping, more rounds/clients, adaptation to SeleneX\n"
      ]
    }
  ],
  "metadata": {
    "kernelspec": {
      "display_name": "Python 3",
      "language": "python",
      "name": "python3"
    },
    "language_info": {
      "name": "python",
      "version": "3.x"
    }
  },
  "nbformat": 4,
  "nbformat_minor": 5
}